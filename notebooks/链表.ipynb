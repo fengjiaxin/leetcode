{
 "cells": [
  {
   "cell_type": "markdown",
   "metadata": {},
   "source": [
    "### 链表\n",
    "&emsp;&emsp;链表(linked list)是这样的一种数据结构，其中的各对象按线性顺序排列。数组的线性顺序是有数组的下表决定，然而与数组不同的是，链表的顺序是由各个对象里的指针决定的。链表为动态集合提供里一种简单灵活的表示方法。\n",
    "\n",
    "#### 1.链表节点的数据结构\n",
    "&emsp;&emsp;链表是由节点组成的，如果是单链表，那么节点由一个关键子key 和一个指针next组成"
   ]
  },
  {
   "cell_type": "code",
   "execution_count": 3,
   "metadata": {},
   "outputs": [],
   "source": [
    "# 节点的数据结构的类\n",
    "class ListNode:\n",
    "    def __init__(self,key):\n",
    "        self.key = key\n",
    "        self.next = None"
   ]
  },
  {
   "cell_type": "markdown",
   "metadata": {},
   "source": [
    "#### 2.哨兵\n",
    "&emsp;&emsp;有的时候在处理链表的时候，对链表排序或者删除元素的时候，链表的头节点会变化，需要不断的修改head节点，非常复杂，最后return的时候也容易弄混，但是如果引入一个辅助节点prev_node，使的prev_node.next始终指向head节点，那么最后返回的时候只需返回prev_node.next即可"
   ]
  },
  {
   "cell_type": "markdown",
   "metadata": {},
   "source": [
    "#### 3.链表的插入\n",
    "&emsp;&emsp;给定一个关键字key,然后将新的节点插入到链表的前段"
   ]
  },
  {
   "cell_type": "code",
   "execution_count": 4,
   "metadata": {},
   "outputs": [],
   "source": [
    "def list_insert(L,key):\n",
    "    prev = L.prev_node\n",
    "    node = ListNode(key)\n",
    "    node.next = prev.next\n",
    "    prev.next = node"
   ]
  },
  {
   "cell_type": "markdown",
   "metadata": {},
   "source": [
    "#### 4.链表的搜索\n",
    "&emsp;&emsp;简单的线性搜索算法，用于查找链表L中第一个关键子为key的元素，并返回指向该元素的指针，如果链表中没有关键字为key的对象，返回None"
   ]
  },
  {
   "cell_type": "code",
   "execution_count": 5,
   "metadata": {},
   "outputs": [],
   "source": [
    "def list_search(L,key):\n",
    "    node = L.prev_node.next\n",
    "    while x and x.key != key:\n",
    "        x = x.next\n",
    "    return x"
   ]
  },
  {
   "cell_type": "markdown",
   "metadata": {},
   "source": [
    "#### 5.链表 leetcode 例题\n",
    "\n",
    "| 基础  |                                       |\n",
    "|-----|---------------------------------------|\n",
    "| 206 | Reverse Linked List                   |\n",
    "| 141 | Linked List Cycle                     |\n",
    "| 24  | Swap Nodes in Pairs                   |\n",
    "| 328 | Odd Even Linked List                  |\n",
    "| 92  | Reverse Linked List II                |\n",
    "| 237 | Delete Node in a Linked List          |\n",
    "| 19  | Remove Nth Node From End of List      |\n",
    "| 83  | Remove Duplicates from Sorted List    |\n",
    "| 203 | Remove Linked List Elements           |\n",
    "| 82  | Remove Duplicates from Sorted List II |\n",
    "| 369 | Plus One Linked List                  |\n",
    "| 2   | Add Two Numbers                       |\n",
    "| 160 | Intersection of Two Linked Lists      |\n",
    "| 21  | Merge Two Sorted Lists                |\n",
    "| 提高  |                                       |\n",
    "| 234 | Palindrome Linked List                |\n",
    "| 143 | Reorder List                          |\n",
    "| 142 | Linked List Cycle II                  |\n",
    "| 148 | Sort List                             |\n",
    "| 25  | Reverse Nodes in k\\-Group             |\n",
    "| 61  | Rotate List                           |\n",
    "| 86  | Partition List                        |\n",
    "| 23  | Merge k Sorted Lists                  |\n",
    "| 147 | Insertion Sort List                   |\n"
   ]
  },
  {
   "cell_type": "code",
   "execution_count": null,
   "metadata": {},
   "outputs": [],
   "source": []
  }
 ],
 "metadata": {
  "kernelspec": {
   "display_name": "Python 3",
   "language": "python",
   "name": "python3"
  },
  "language_info": {
   "codemirror_mode": {
    "name": "ipython",
    "version": 3
   },
   "file_extension": ".py",
   "mimetype": "text/x-python",
   "name": "python",
   "nbconvert_exporter": "python",
   "pygments_lexer": "ipython3",
   "version": "3.6.6"
  }
 },
 "nbformat": 4,
 "nbformat_minor": 2
}
