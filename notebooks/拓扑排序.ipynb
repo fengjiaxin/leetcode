{
 "cells": [
  {
   "cell_type": "markdown",
   "metadata": {},
   "source": [
    "### 拓扑排序\n",
    "&emsp;&emsp;在学习拓扑排序之前，首先将图的bfs和dfs复习一下\n",
    "\n",
    "#### 1.广度优先搜索 \n",
    "&emsp;&emsp;该算法始终是将已发现节点和未发现节点之间的边界，沿其广度方向向外扩展，也就是说，算法需要在发现所有距离源节点s为k的所有节点之后，才会发现距离源节点s为k+1的其他节点。\n",
    "\n",
    "&emsp;&emsp;为了跟踪算法的进展，广度优先搜索在概念上将每个节点涂上白色,灰色,黑色，所有节点在一开始的时候涂上白色，在算法推进的过程中，这些节点可能会变成灰色或者黑色，在搜索的过程中，第一次遇到一个节点就称为该节点被发现，此时该节点的颜色将发生变化，因此凡是黑色或者灰色的节点都是已被发现的节点。但广度优先搜索对灰色和黑色节点加以区分，以确保搜索按照广度优先模式进行推进，如果边(u,v)属于E，且节点u是黑色的，则节点v既可能是灰色的也可能是黑色的，也就是说，所有与黑色节点临接的节点都已经被发现，对于灰色节点来说，其临接节点中可能存在未被发现的白色节点。灰色节点所代表的就是已知和未知两个集合之间的边界。\n",
    "\n",
    "&emsp;&emsp;在下面给出的广度优先搜索过程中，假定输入图G = (V,E)是以邻接表所表示的，该算法为图中每个节点赋予一些额外的属性:每个节点u的颜色放在属性u.color里，将u的前驱节点放在属性u.prev里，如果u没有前驱节点，则u.prev = None，属性u.distance记录的是广度优先搜索算法所计算出的从源节点s到节点u之间的距离。该算法使用一个先进先出的队列Q来管理灰色节点集合。"
   ]
  },
  {
   "cell_type": "code",
   "execution_count": null,
   "metadata": {},
   "outputs": [],
   "source": [
    "def bfs(G,s):\n",
    "    for each vertex u in G.V - s:\n",
    "        u.color = white\n",
    "        u.distance = float('Inf')\n",
    "        u.prev = None\n",
    "    s.color = gray\n",
    "    s.distance = 0\n",
    "    s.prev = None\n",
    "    Q = queue()\n",
    "    enqueue(Q,s)\n",
    "    while Q:\n",
    "        u = dequeue(Q)\n",
    "        for each v in G.adj[u]:\n",
    "            if v.color == white:\n",
    "                v.color = gray\n",
    "                v.d = u.d + 1\n",
    "                v.prev = u\n",
    "                enqueue(Q,v)\n",
    "        u.color = black"
   ]
  },
  {
   "cell_type": "markdown",
   "metadata": {},
   "source": [
    "&emsp;&emsp;下图描述的是BFS在一个样本图上的推进过程。\n",
    "\n",
    "![bfs图解](./pic/topological_sort/bfs.jpg)"
   ]
  },
  {
   "cell_type": "markdown",
   "metadata": {},
   "source": [
    "&emsp;&emsp;**广度优先树**\n",
    "\n",
    "&emsp;&emsp;bfs在对图进行搜索的过程中将创建一颗广度优先树，如上图所示，该棵树对应的是prev属性；对于图G = (V,E)和源节点s，定义图的前驱子图为$G_{prev} = (V_{prev},E_{prev})$,其中$V_{prev} = {v \\in V:v.prev != None} \\cup {s},E_{prev} = {(v.prev,v):v \\in V_{prev} - {s} }$\n",
    "\n",
    "&emsp;&emsp;如果$V_{prev}$由从源节点s可以到达的节点组成，并且对于所有的$v \\in V_{prev}$，子图$G_{prev}$包含一条从源节点s到节点v的唯一简单路径，且该路径也是图G里面从源节点s到节点v之间的一条最短路径，则前驱子图$G_{prev}$是一颗广度优先树。广度优先树实际上就是一颗树，因为它是连通的，并且$|E_{prev}| = |V_{prev}| - 1$，称$E_{prev}$中的边为树边。"
   ]
  },
  {
   "cell_type": "markdown",
   "metadata": {},
   "source": [
    "#### 2.深度优先搜索 \n",
    "&emsp;&emsp;深度优先搜索总是对最近才发现的节点v的出发边进行探索，直到该节点的所有出发边都被发现为止。一旦节点v的所有出发边都被发现，搜索则回溯到v的前驱节点，来搜索该前驱节点的出发边。该过程一直持续到从愿节点可以达到的所有节点都被发现为止。如果还存在尚未发现的节点,则深度优先搜索将从这些未被发现的节点中任选一个作为新的源节点没,并重复同样的搜索过程，该算法重复整个过程，直到图中的所有节点都被发现为止。\n",
    "\n",
    "&emsp;&emsp;像广度优先搜索一样，在对已被发现的节点u的邻接链表进行扫描时，每当发现一个节点v时，深度优先搜索算法将对这个时间进行记录，将v的前驱属性v.prev 设置为u,不过与广度优先搜索不同的是，广度优先搜索的前驱子图是一颗树，而深度优先搜索的前驱子图可能由多颗树组成，因为搜索可能从多个源节点重复进行。因此，给深度优先搜索的前驱子图所下的定义与对广度优先搜索前驱子图所下的定义略有不同；设图$G_{prev} = (V,E_{prev})$ ,其中$E_{prev} = {(v.prev,v):v \\in V \\cup v.prev != None}$，深度优先搜索的前驱子图形成一个由多棵深度优先树构成的深度优先森林，森林$E_{prev}$中的边仍然成为树边。\n",
    "\n",
    "&emsp;&emsp;与广度优先搜索相似，深度优先搜索算法在搜索的过程中也对节点进行涂色来指明节点的状态。每个节点的初始颜色都是白色，在节点被发现后变为灰色，在其邻接表被扫描完成后变为黑色，该方法可以保证每个节点仅在一颗深度优先树中出现，因此所有的深度优先树是不相交的。\n",
    "\n",
    "&emsp;&emsp;除了创建一个深度优先搜索森林外，深度优先搜索算法还在每个节点上盖上一个时间戳，每个节点v由两个时间戳，第一个时间戳v.d记录节点v第一次被发现第时间（涂上灰色的时间），第二个时间错v.f记录的是搜索完成对v的邻接链表扫描的时间（涂上黑色的时间），这些时间戳提供了涂结构的重要信息，通常能够帮助推断深度优先搜索算法的行为。\n",
    "\n",
    "&emsp;&emsp;下面的伪代码给出的是基本的深度优先搜索算法。输入图G既可是有向图，也可以是无向图，变量time是一个全局变量，用来计算时间戳。"
   ]
  },
  {
   "cell_type": "code",
   "execution_count": null,
   "metadata": {},
   "outputs": [],
   "source": [
    "global time = 0\n",
    "def dfs(G):\n",
    "    for each vertex v in G.V:\n",
    "        u.color = white\n",
    "        u.prev = None\n",
    "\n",
    "for each vertex u in G.V:\n",
    "    if u.color == white:\n",
    "        dfs_visit(G,u)\n",
    "        \n",
    "def dfs_visit(G,u):\n",
    "    time += 1\n",
    "    u.d = time\n",
    "    u.color = gray\n",
    "    for each v in G.adj[u]:\n",
    "        if v.color == white:\n",
    "            v.prev = u\n",
    "            dfs_visit(G,v)\n",
    "    u.color = black\n",
    "    time += 1\n",
    "    u.f = time"
   ]
  },
  {
   "cell_type": "markdown",
   "metadata": {},
   "source": [
    "&emsp;&emsp;下图描述的是dfs在一个样本图上的推进过程。\n",
    "\n",
    "![dfs图解](./pic/topological_sort/dfs.jpg)"
   ]
  },
  {
   "cell_type": "markdown",
   "metadata": {},
   "source": [
    "#### 3.拓扑排序\n",
    "&emsp;&emsp;本节主要讲述如何使用深度优先搜索来对有向无环图进行拓扑排序，对于一个有向无环图G = (V,E)来说，其拓扑排序是G中所有节点的一种线性次序，该次序满足如下条件：如果图G包含边(u,v)，则节点u在拓扑排序中处于节点v的前面（如果图G包含环路，则不可能排出一个线性次序）。拓扑排序的如下图例子显示：\n",
    "\n",
    "![topo图解](./pic/topological_sort/topo.jpg)\n",
    "\n",
    "\n",
    "&emsp;&emsp;算法思想:用DFS遍历整个图，得出个节点的完成时间，然后按完成时间倒序排列就得到了图的拓扑排序序列。\n"
   ]
  },
  {
   "cell_type": "code",
   "execution_count": null,
   "metadata": {},
   "outputs": [],
   "source": [
    "def topological_sort(G):\n",
    "    call dfs(G) to compute finishing times v.f for each vertex v\n",
    "    as each vertex is finished ,insert it onto the front of a linked list\n",
    "    return the linked list of vertices"
   ]
  },
  {
   "cell_type": "markdown",
   "metadata": {},
   "source": [
    "&emsp;&emsp;**引理:一个有向图G = (V,E)是无环的当且仅当对其进行的深度优先搜索不产生后向边**\n",
    "\n",
    "&emsp;&emsp;**拓扑排序算法topological_sort算法生成的是有向无环图的拓扑排序**\n",
    "\n",
    "&emsp;&emsp;证明 假定在有向无环图G = (V，E）上运行dfs来计算节点的完成时间。只需证明，对于任意一对不同的节点$u,v \\in V$，如果图G包含一条从节点u到节点v的边，则v.f < u.f。\n",
    "\n",
    "&emsp;&emsp;考虑算法dfs(G)所探索的任意一条边(u,v)，当这条边被探索时，节点v不可能是灰色，如果那样的话，节点v将是节点u的祖先，这样(u,v)将是一条后向边，与上面的引理相矛盾，因此节点v要么是白色，要么是黑色的，如果节点v是白色的，它将成为节点u的后代，因此u.f > v.f；如果节点是黑色的，则对其全部的处理都已经完成，因此v.f已经被设置。因为还需要对节点u进行探索，u.f尚需要设定。但一旦我们对u.f进行设定，其数值一定比v.f大，既u.f > v.f，因此对于任意一条边(u,v)，有u.f > v.f。"
   ]
  },
  {
   "cell_type": "code",
   "execution_count": 3,
   "metadata": {},
   "outputs": [],
   "source": [
    "# 代码实现拓扑排序\n",
    "class Graph:\n",
    "    def __init__(self):\n",
    "        self.V = []\n",
    "        \n",
    "class Vertex:\n",
    "    def __init__(self,x):\n",
    "        self.key = x\n",
    "        self.colot = 'white'\n",
    "        self.d = float('Inf')\n",
    "        self.f = float('Inf')\n",
    "        self.prev = None\n",
    "        self.adj = []\n",
    "        self.next = None\n",
    "        \n",
    "class Solution:\n",
    "    def dfs(self,G):\n",
    "        for u in G.V:\n",
    "            u.color = 'white'\n",
    "            u.prev = None\n",
    "        global time\n",
    "        time = 0\n",
    "        for u in G.V:\n",
    "            if u.color == 'white':\n",
    "                self.dfs_visit(G,u)\n",
    "                \n",
    "    def dfs_visit(self,G,u):\n",
    "        global time\n",
    "        time = time + 1\n",
    "        u.d = time\n",
    "        u.color = 'gray'\n",
    "        for v in u.adj:\n",
    "            if v.color == 'white':\n",
    "                self.dfs_visit(G,v)\n",
    "                v.prev = u\n",
    "                \n",
    "        u.color = 'black'\n",
    "        time = time + 1\n",
    "        u.f = time\n",
    "        \n",
    "    def topological_sort(self,G):\n",
    "        linked_list = Vertex('#')\n",
    "        self.dfs(G)\n",
    "        G.V.sort(key=lambda v:v.f)\n",
    "        for v in G.V:\n",
    "            v.next = linked_list.next\n",
    "            linked_list.next = v\n",
    "        return linked_list"
   ]
  },
  {
   "cell_type": "code",
   "execution_count": 6,
   "metadata": {},
   "outputs": [
    {
     "name": "stdout",
     "output_type": "stream",
     "text": [
      "watch| 18\n",
      "shirt| 16\n",
      "tie| 15\n",
      "socks| 12\n",
      "undershorts| 10\n",
      "pants| 9\n",
      "shoes| 8\n",
      "belt| 6\n",
      "jacket| 5\n"
     ]
    }
   ],
   "source": [
    "undershorts = Vertex('undershorts') \n",
    "socks = Vertex('socks') \n",
    "pants = Vertex('pants') \n",
    "shoes = Vertex('shoes') \n",
    "belt = Vertex('belt')\n",
    "shirt = Vertex('shirt') \n",
    "tie = Vertex('tie')\n",
    "jacket = Vertex('jacket') \n",
    "watch = Vertex('watch')\n",
    "\n",
    "undershorts.adj = [pants, shoes]\n",
    "socks.adj = [shoes]\n",
    "pants.adj = [belt, shoes]\n",
    "shoes.adj = []\n",
    "belt.adj = [jacket]\n",
    "shirt.adj = [belt, tie]\n",
    "tie.adj = [jacket]\n",
    "jacket.adj = []\n",
    "watch.adj = []\n",
    "\n",
    "G = Graph()\n",
    "G.V = [undershorts,socks,pants,shoes,belt,shirt,tie,jacket,watch]\n",
    "\n",
    "m = Solution()\n",
    "Sort_List = m.topological_sort(G)\n",
    "p = Sort_List\n",
    "while p.next != None:\n",
    "    print(p.next.key + '| ' + str(p.next.f))\n",
    "    p = p.next"
   ]
  }
 ],
 "metadata": {
  "kernelspec": {
   "display_name": "Python 3",
   "language": "python",
   "name": "python3"
  },
  "language_info": {
   "codemirror_mode": {
    "name": "ipython",
    "version": 3
   },
   "file_extension": ".py",
   "mimetype": "text/x-python",
   "name": "python",
   "nbconvert_exporter": "python",
   "pygments_lexer": "ipython3",
   "version": "3.6.7"
  }
 },
 "nbformat": 4,
 "nbformat_minor": 2
}
