{
 "cells": [
  {
   "cell_type": "markdown",
   "metadata": {},
   "source": [
    "### Trie树\n",
    "#### 1.1 trie树介绍\n",
    "&emsp;&emsp;trie树，又称为字典树，前缀树，是一种多叉树结构，如图:\n",
    "\n",
    "![并查集链表图解](./pic/trie/trie_tree.jpg)\n",
    "\n",
    "&emsp;&emsp;上图是一颗trie树，表示了关键字集合{a,to,tea,ted,ten,i,in,inn},从上图可以归纳出trie树的基本性质:\n",
    "\n",
    " * 1.根节点不包含字符，除根节点外的每一个子节点都包含一个字符\n",
    " * 2.从根节点到某一个节点，路径上经过的字符连接起来，为该节点对应的字符串\n",
    " * 3.每个节点的所有子节包含的字符互不相同\n",
    "\n",
    "&emsp;&emsp;通常在实现的时候，会在节点结构设置一个标志，用来标记该节点处是否构成一个单词（关键字）。可以看出，trie树的关键字一般都是字符串，而且trie树把每个关键字保存在一条路径上，而不是一个节点中，另外两个有公共前缀的关键子，在trie树中前缀部分的路径相同，所以trie树又叫prefix_tree.\n",
    "\n",
    "#### 1.2 Trie树的优缺点\n",
    "&emsp;&emsp;Trie树的核心思想是空间换时间，利用字符串的公共前缀来减少无谓的字符串比较以提高查询速率的目的。\n",
    "\n",
    "**优点**\n",
    "\n",
    " * 1.插入和查询的效率很高，都为$\\theta(m)$,其中m是带插入/查询的字符串的长度。\n",
    " * 2.Trie树中不同的关键子不会产生冲突。\n",
    " * 3.trie树不用求hash值，对短字符串有更快的速度。\n",
    " * 4.trie树可以对关键字按字典排序。\n",
    "\n",
    "**缺点**\n",
    "\n",
    " * 1.当hash函数很好时，trie树的查找效率会低于hash搜索\n",
    " * 2.空间消耗比较大\n",
    "\n",
    "#### 1.3 Trie树实现"
   ]
  },
  {
   "cell_type": "code",
   "execution_count": 1,
   "metadata": {},
   "outputs": [],
   "source": [
    "class Trie:\n",
    "    def __init__(self):\n",
    "        # 在这个实现中，利用字典来代表节点\n",
    "        self.root = {}\n",
    "        # 如果该字典含有self.end,说明到该节点的路径构成一个单词\n",
    "        self.end = -1\n",
    "        \n",
    "    def insert(self,word):\n",
    "        curNode = self.root\n",
    "        for c in word:\n",
    "            if c not in curNode:\n",
    "                curNode[c] = {}\n",
    "            curNode = curNode[c]\n",
    "        # 给该节点标记构成单词\n",
    "        curNode[self.end] = True\n",
    "        \n",
    "    def search(self,word):\n",
    "        curNode = self.root\n",
    "        for c in word:\n",
    "            if c not in curNode:\n",
    "                return False\n",
    "            curNode = curNode[c]\n",
    "        \n",
    "        # 判断该节点否构成单词\n",
    "        if self.end not in curNode:\n",
    "            return False\n",
    "        return True\n",
    "    \n",
    "    def startsWith(self,prefix):\n",
    "        curNode = self.root\n",
    "        for c in prefix:\n",
    "            if c not in curNode:\n",
    "                return False\n",
    "            curNode = curNode[c]\n",
    "        return True"
   ]
  },
  {
   "cell_type": "code",
   "execution_count": 2,
   "metadata": {},
   "outputs": [],
   "source": [
    "words = ['abc','bcd','abcde']\n",
    "trie = Trie()\n",
    "for word in words:\n",
    "    trie.insert(word)"
   ]
  },
  {
   "cell_type": "code",
   "execution_count": 3,
   "metadata": {},
   "outputs": [
    {
     "data": {
      "text/plain": [
       "True"
      ]
     },
     "execution_count": 3,
     "metadata": {},
     "output_type": "execute_result"
    }
   ],
   "source": [
    "trie.search('abc')"
   ]
  },
  {
   "cell_type": "code",
   "execution_count": 4,
   "metadata": {},
   "outputs": [
    {
     "data": {
      "text/plain": [
       "False"
      ]
     },
     "execution_count": 4,
     "metadata": {},
     "output_type": "execute_result"
    }
   ],
   "source": [
    "trie.search('acb')"
   ]
  },
  {
   "cell_type": "code",
   "execution_count": 5,
   "metadata": {},
   "outputs": [
    {
     "data": {
      "text/plain": [
       "True"
      ]
     },
     "execution_count": 5,
     "metadata": {},
     "output_type": "execute_result"
    }
   ],
   "source": [
    "trie.startsWith('ab')"
   ]
  },
  {
   "cell_type": "code",
   "execution_count": 6,
   "metadata": {},
   "outputs": [
    {
     "data": {
      "text/plain": [
       "False"
      ]
     },
     "execution_count": 6,
     "metadata": {},
     "output_type": "execute_result"
    }
   ],
   "source": [
    "trie.startsWith('ac')"
   ]
  },
  {
   "cell_type": "markdown",
   "metadata": {},
   "source": [
    "### 1.4 leetcode对应题目\n",
    "| 基础  |                                              |\n",
    "|-----|----------------------------------------------|\n",
    "| 211 | Add and Search Word \\- Data structure design |\n",
    "| 208 | Implement Trie \\(Prefix Tree\\)               |\n",
    "| 212 | Word Search II                               |\n"
   ]
  }
 ],
 "metadata": {
  "kernelspec": {
   "display_name": "Python 3",
   "language": "python",
   "name": "python3"
  },
  "language_info": {
   "codemirror_mode": {
    "name": "ipython",
    "version": 3
   },
   "file_extension": ".py",
   "mimetype": "text/x-python",
   "name": "python",
   "nbconvert_exporter": "python",
   "pygments_lexer": "ipython3",
   "version": "3.6.6"
  }
 },
 "nbformat": 4,
 "nbformat_minor": 2
}
