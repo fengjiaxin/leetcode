{
 "cells": [
  {
   "cell_type": "markdown",
   "metadata": {},
   "source": [
    "### 线性时间排序\n",
    "&emsp;&emsp;目前的几种排序算法可以在O(nlgn)的时间内进行排序。归并排序和堆排序达到来最坏情况下的上界；快速排序在平均情况下达到该上界。对于这些算法中的每一个，都能给出n个输入数值，使得该算法在O(nlgn)时间内完成。\n",
    "\n",
    "&emsp;&emsp;这些算法都有一个性质：在排序的最终结果中，各元素的次序依赖于他们之间的比较，将这类排序算法成为比较排序。\n",
    "#### 1.计数排序\n",
    "&emsp;&emsp;计数排序假设n个输入元素中的每一个都是在0到k区间内的一个整数，其中k为某个整数，当k = O(n)时，排序的运行时间为$\\theta(n)$。\n",
    "\n",
    "&emsp;&emsp;计数排序的基本思想是：对每一个输入元素x，确定小于x的元素个数，利用这一信息，就可以直接将x放在它的输出数组上了。\n",
    "\n",
    "&emsp;&emsp;说说我的理解，因为这n个数肯定是在0～k的范围内，所以可以先构建一个额外的存储空间C，长度为k+1,遍历需要排序的数组A，假设该数字为i,那么在数组的i位置添加1，遍历结束后，可以统计每个0-k中每个数字的频数，由于数组的坐标是递增的，因此逐渐向后添加，此时数组c代表的是小于等于下标i的数字有C[i]个，因此该数字放到新数组B[c[i]]处，然后将C[i] - 1 ，因为如果该数字出现一次，应该删除。"
   ]
  },
  {
   "cell_type": "code",
   "execution_count": 5,
   "metadata": {},
   "outputs": [],
   "source": [
    "# 计数排序，A代表乱序数组，B代表输出数组，k代表数字\n",
    "def count_sort(A,B,k):\n",
    "    c = [0] * (k+1)\n",
    "    for num in A:\n",
    "        c[num] = c[num] + 1\n",
    "    for index in range(1,k+1):\n",
    "        c[index] = c[index - 1] + c[index]\n",
    "    for num in A:\n",
    "        B[c[num] - 1] = num\n",
    "        c[num] = c[num] - 1"
   ]
  },
  {
   "cell_type": "code",
   "execution_count": 6,
   "metadata": {},
   "outputs": [],
   "source": [
    "a = [1,4,1,2,7,5,2]\n",
    "k = 9\n",
    "b = [''] * 7\n",
    "count_sort(a,b,k)"
   ]
  },
  {
   "cell_type": "code",
   "execution_count": 7,
   "metadata": {},
   "outputs": [
    {
     "data": {
      "text/plain": [
       "[1, 1, 2, 2, 4, 5, 7]"
      ]
     },
     "execution_count": 7,
     "metadata": {},
     "output_type": "execute_result"
    }
   ],
   "source": [
    "b"
   ]
  },
  {
   "cell_type": "markdown",
   "metadata": {},
   "source": [
    "&emsp;&emsp;计数排序不是一个比较排序算法，它的一个重要性质就是它是稳定的，具有相同值的元素在输出素组中的相对次序与它们在输入数组中的相对次序相同，即对两个相同的数来说，在输入数组中先出现的数，在输出数组中也位于前面。\n",
    "#### 2.桶排序\n",
    "&emsp;&emsp;桶排序假设输入数据服从均匀分布，平均情况下它的时间代价为O(n)。与计数排序类似，因为对输入数据作了某种假设，桶排序的速度也很快，具体的说计数排序假设输入数据都属于一个小区间内的整数，而桶排序则假设输入是由一个随机过程产生，该过程将元素均匀，独立的分布在[0,1)区间上"
   ]
  },
  {
   "cell_type": "markdown",
   "metadata": {},
   "source": [
    "&emsp;&emsp;桶排序将[0,1)区间划分为n个相同大小的子区间，或称为桶，然后将n个输入数分别放到各个桶中，因为输入数据是均匀，独立的分布在[0,1)区间上，所以一般不会出现很多数落在同一个桶中的情况，为了得到输出结果，先对每个桶中的数进行排序，然后遍历每个桶，按照次序将各个桶中的元素列出来即可。"
   ]
  },
  {
   "cell_type": "code",
   "execution_count": 11,
   "metadata": {},
   "outputs": [],
   "source": [
    "def bucket_sort(A):\n",
    "    length = len(A)\n",
    "    B = [[] for _ in range(length)]\n",
    "    for num in A:\n",
    "        B[(num-1)%length].append(num)\n",
    "    for nums in B:\n",
    "        nums.sort()\n",
    "    res = []\n",
    "    for nums in B:\n",
    "        res.extend(nums)\n",
    "    return res"
   ]
  },
  {
   "cell_type": "code",
   "execution_count": 12,
   "metadata": {},
   "outputs": [],
   "source": [
    "a = [1,4,1,2,7,5,2]\n",
    "res = bucket_sort(a)"
   ]
  },
  {
   "cell_type": "code",
   "execution_count": 13,
   "metadata": {},
   "outputs": [
    {
     "data": {
      "text/plain": [
       "[1, 1, 2, 2, 4, 5, 7]"
      ]
     },
     "execution_count": 13,
     "metadata": {},
     "output_type": "execute_result"
    }
   ],
   "source": [
    "res"
   ]
  }
 ],
 "metadata": {
  "kernelspec": {
   "display_name": "Python 3",
   "language": "python",
   "name": "python3"
  },
  "language_info": {
   "codemirror_mode": {
    "name": "ipython",
    "version": 3
   },
   "file_extension": ".py",
   "mimetype": "text/x-python",
   "name": "python",
   "nbconvert_exporter": "python",
   "pygments_lexer": "ipython3",
   "version": "3.6.6"
  }
 },
 "nbformat": 4,
 "nbformat_minor": 2
}
