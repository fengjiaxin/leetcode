{
 "cells": [
  {
   "cell_type": "markdown",
   "metadata": {},
   "source": [
    "## 并查集(用于不相交集合的数据结构)\n",
    "&emsp;&emsp;一些应用涉及将n个不同的元素分成一组不相交的集合，这些应用通常需要进行两种特别的操作:\n",
    " * 1.寻找包含给定元素的唯一集合\n",
    " * 2.合并两个集合\n",
    " \n",
    "### 1.不相交集合的操作\n",
    " * 1.make_set(x):建立一个新的集合，它的唯一成员(因而是代表)是x，因为各个集合是不相交的，因此x不会出现在别的某个集合中。\n",
    " * 2.union(x,y):将包含x和y的两个动态集合($S_x,S_y$)合并成一个新的集合，即这两个集合的并集，在实际操作中，经常把其中一个集合的元素并入另一个集合中。\n",
    " * 3.find_set(x):返回一个指针，这个指针指向包含x的(唯一)集合代表。\n",
    " \n",
    "&emsp;&emsp;使用两个参数来分析并查集数据结构的运行时间:\\\n",
    "\n",
    " * 参数n，代表make_set操作的次数。\n",
    " * 参数m，表示make_set,union,find_set操作的总次数。\n",
    " \n",
    "&emsp;&emsp;因为各个集合是不相交的，所以每个union操作减少一个集合。因此n-1次union操作后，只有一个集合留下来，即union操作的次数最多是n-1,由于make\\_set操作被包含在总操作次数m中，因此有 m>=n,这里假设n个make_set操作总是最先执行的n个操作。\n",
    "\n",
    "### 2.确定无向图的连通分量"
   ]
  },
  {
   "cell_type": "code",
   "execution_count": 1,
   "metadata": {},
   "outputs": [],
   "source": [
    "# 建立新的集合\n",
    "def make_set(v):pass\n",
    "# 返回x代表的集合\n",
    "def find_set(u):pass\n",
    "# 合并含有x和含有y的集合\n",
    "def union(x,y):pass\n",
    "\n",
    "# 使用并查集计算一个图的连通分量\n",
    "def connected_components(G):\n",
    "    for v in G.V:\n",
    "        make_set(v)\n",
    "    for (u,v) in G.E:\n",
    "        if find_set(u) != find_set(v):\n",
    "            union(u,v)\n",
    "\n",
    "# 判断两个顶点是否在同一个连通分量\n",
    "def same_component(u,v):\n",
    "    if find_set(u) == find_set(v):\n",
    "        return True\n",
    "    return False"
   ]
  },
  {
   "cell_type": "markdown",
   "metadata": {},
   "source": [
    "### 3.并查集的链表表示\n",
    "\n",
    "&emsp;&emsp;每个集合用一个自己的链表来表示，每个集合的对象包含head属性和tail属性，head属性指向表的第一个对象，tail属性指向表的最后一个对象。链表中的每个对象都包含一个集合对象、一个指向链表中下一个对象的指针和一个指回集合对象的指针。\n",
    "\n",
    "\n",
    "![并查集链表图解](./pic/union_find/union_find_list.jpg)\n",
    "\n",
    "&emsp;&emsp;用上图a这种链表表示，make\\_set和find\\_set操作是非常方便的，只需O(1)时间。\n",
    "\n",
    "&emsp;&emsp;**合并的一个简单实现**\n",
    "\n",
    "&emsp;&emsp;在使用链表集合表示的实现中，union操作的实现比make\\_set和find\\_set花费的时间多,如图b表示，通过把y所在的链表拼接到x所在的链表实现union(x,y)，x所在的链表的代表成为了结果集的代表。利用x所在的链表的tail指针，可以迅速地找到拼接y所在的链表的位置。因为y所在的链表的所有成员加入了x所在的链表中，此时可以删除y所在的链表的集合对象，对于y所在的链表的每个对象，必须更新指向集合对象的指针，这将花费的时间与y所在的链表长度呈线性关系。\n",
    "\n",
    "&emsp;&emsp;事实上，能够轻松构建在一个n个对象上需要$\\theta(n^2)$时间的m个操作序列。如图:\n",
    "\n",
    "![union](./pic/union_find/union.jpg)\n",
    "\n",
    "&emsp;&emsp;假设有n个对象$x_1,x_2,...,x_n$。执行n个make\\_set操作，后面跟着执行n-1个union操作，因而有m = 2n - 1，执行n个make\\_set操作需要$\\theta(n)$的时间，由于第i个union操作更新i个对象，因此所有的n-1个union操作的更新的对象的总数为:\n",
    "\n",
    "$$\\sum_{i-1}^{n-1} = \\theta(n^2)$$\n",
    "\n",
    "总的操作数为2n - 1,这样每个操作平均需要$\\theta(n)$的时间，即一个操作的摊还时间是$\\theta(n)$\n",
    "\n",
    "### 4. 不相交集合森林\n",
    "&emsp;&emsp;在一个不相交集合更快的实现中，使用有根树来表示集合，树中的每个节点包含一个成员，每个树代表一个集合，在一个不相交集合森林中，每个成员仅指向它的父节点。每个树的根包含集合的代表，并且是其自己的父节点。如图:\n",
    "\n",
    "![union](./pic/union_find/root_tree.jpg)\n",
    "\n",
    "* 1.make_set:简单的创建一颗只有一个节点的树\n",
    "* 2.find_set:通过沿着指向父节点的指针找到树的根\n",
    "* 3.union:使得一颗树的根指向另外一颗树的根\n",
    "\n",
    "### 5. leetcode 对应题目\n",
    "\n",
    "| 基础  |                                                       |\n",
    "|-----|-------------------------------------------------------|\n",
    "| 261 | Graph Valid Tree                                      |\n",
    "| 323 | Number of Connected Components in an Undirected Graph |\n",
    "| 305 | Number of Islands II                                  |"
   ]
  }
 ],
 "metadata": {
  "kernelspec": {
   "display_name": "Python 3",
   "language": "python",
   "name": "python3"
  },
  "language_info": {
   "codemirror_mode": {
    "name": "ipython",
    "version": 3
   },
   "file_extension": ".py",
   "mimetype": "text/x-python",
   "name": "python",
   "nbconvert_exporter": "python",
   "pygments_lexer": "ipython3",
   "version": "3.6.6"
  }
 },
 "nbformat": 4,
 "nbformat_minor": 2
}
